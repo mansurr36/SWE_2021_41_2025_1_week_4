{
  "nbformat": 4,
  "nbformat_minor": 0,
  "metadata": {
    "colab": {
      "provenance": []
    },
    "kernelspec": {
      "name": "python3",
      "display_name": "Python 3"
    },
    "language_info": {
      "name": "python"
    }
  },
  "cells": [
    {
      "cell_type": "markdown",
      "source": [
        "## Task\n",
        "- Complete **isHappy** function following the description below\n",
        "\n",
        "### Happy Number\n",
        "Write an algorithm to determine if a number **n** is happy.\n",
        "\n",
        "A **happy number** is a number defined by the following process:\n",
        "\n",
        "* Starting with any positive integer **n**, replace the number by the sum of the squares of its digits (refer to the testcase 1 below).\n",
        "* If we repeat the process, the number would reach 1 (where it will stay), or it would **loops endlessly in the cycle** without ever reaching 1.\n",
        "* Those numbers for which this process **ends in 1** are happy.\n",
        "\n",
        "Return **true** if n is a happy number, and **false** if not.\n",
        "\n",
        "Constraints:\n",
        "1. 1 <= n <= $2^{31}$ - 1\n",
        "2. Use Base-10 number system"
      ],
      "metadata": {
        "id": "TV3Socqg8BVl"
      }
    },
    {
      "cell_type": "code",
      "execution_count": 4,
      "metadata": {
        "id": "5FcxitVf5kdQ",
        "outputId": "915b2fbe-9f01-44a9-ccae-dc159c6b8c34",
        "colab": {
          "base_uri": "https://localhost:8080/"
        }
      },
      "outputs": [
        {
          "name": "stdout",
          "output_type": "stream",
          "text": [
            "16\n"
          ]
        },
        {
          "output_type": "execute_result",
          "data": {
            "text/plain": [
              "False"
            ]
          },
          "metadata": {},
          "execution_count": 4
        }
      ],
      "source": [
        "def isHappy(n):\n",
        "  # Complete the isHappy() function below\n",
        "  # The function should return either True or False\n",
        "  sum = 0\n",
        "  init = n\n",
        "  while n != -1:\n",
        "    sum += (n % 10)**2\n",
        "    if sum == 1:\n",
        "      return True\n",
        "    if sum == init:\n",
        "      return False\n",
        "    n = n // 10\n",
        "    if n == 0:\n",
        "      n = sum\n",
        "      sum = 0\n"
      ]
    },
    {
      "cell_type": "code",
      "source": [],
      "metadata": {
        "id": "4zx7DPnO6JUn"
      },
      "execution_count": null,
      "outputs": []
    },
    {
      "cell_type": "code",
      "source": [
        "type(isHappy(3))"
      ],
      "metadata": {
        "id": "1B8VyPWA6F3u",
        "outputId": "8fac791d-b96f-4085-ee9e-349c567b5880",
        "colab": {
          "base_uri": "https://localhost:8080/"
        }
      },
      "execution_count": null,
      "outputs": [
        {
          "output_type": "execute_result",
          "data": {
            "text/plain": [
              "bool"
            ]
          },
          "metadata": {},
          "execution_count": 2
        }
      ]
    },
    {
      "cell_type": "code",
      "source": [],
      "metadata": {
        "id": "WD7fTF1g6Hhm"
      },
      "execution_count": null,
      "outputs": []
    },
    {
      "cell_type": "markdown",
      "source": [
        "**Testcase 1.**\n",
        "\n",
        "**Input**: 19\n",
        "\n",
        "**Output**: True\n",
        "\n",
        "**Explanation**:\n",
        "\n",
        "$1^2 + 9^2 = 82$\n",
        "\n",
        "$8^2 + 2^2 = 68$\n",
        "\n",
        "$6^2 + 8^2 = 100$\n",
        "\n",
        "$1^2 + 0^2 + 0^2 = 1$\n",
        "\n",
        "$1^2 = 1$ (reached 1 and will not change)"
      ],
      "metadata": {
        "id": "eRrh24Ognrqf"
      }
    },
    {
      "cell_type": "markdown",
      "source": [
        "**Testcase 2.**\n",
        "\n",
        "**Input**: 16\n",
        "\n",
        "**Output**: False\n",
        "\n",
        "**Explanation**:\n",
        "\n",
        "$1^2 + 6^2 = 37$\n",
        "\n",
        "$3^2 + 7^2 = 58$\n",
        "\n",
        "$5^2 + 8^2 = 89$\n",
        "\n",
        "$8^2 + 9^2 = 145$\n",
        "\n",
        "$1^2 + 4^2 + 5^2 = 42$\n",
        "\n",
        "$4^2 + 2^2 = 20$\n",
        "\n",
        "$2^2 + 0^2 = 4$\n",
        "\n",
        "$4^2 = 16$\n",
        "\n",
        "$1^2 + 6^2 = 37$\n",
        "\n",
        "... (endless loop of 16 ➜ 37 ➜ 58 ➜ 89 ➜ 145 ➜ 42 ➜ 20 ➜ 4 ➜ 16)"
      ],
      "metadata": {
        "id": "dE7YMY8qoPoj"
      }
    }
  ]
}